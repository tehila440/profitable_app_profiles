{
 "cells": [
  {
   "cell_type": "markdown",
   "metadata": {},
   "source": [
    "## Profitable App Profiles for the App Store and Google Play"
   ]
  },
  {
   "cell_type": "markdown",
   "metadata": {},
   "source": [
    "In this project we are looking at what type of app are likely to attract more users.  The apps are free to download and install and the main source of revenue consists of in-app ads.  For any given app the revenue is mostly indfluenced by the number of users of that app.<br>We will collect and analyze data about mobile apps available on Google Play and the App Store.<br>\n",
    "* The Google Play data set containing approximately 10,000 Android apps can be found [here](https://www.kaggle.com/lava18/google-play-store-apps)\n",
    "* The App Store data set containing approximately 7,000 iOS apps can be found [here](https://www.kaggle.com/ramamet4/app-store-apple-data-set-10k-apps)\n",
    "\n",
    "These datasets are from 2018 and 2017, respectively."
   ]
  },
  {
   "cell_type": "code",
   "execution_count": 110,
   "metadata": {},
   "outputs": [],
   "source": [
    "import pandas as pd\n",
    "import csv\n",
    "import numpy as np\n",
    "import matplotlib.pyplot as plt\n",
    "%matplotlib inline "
   ]
  },
  {
   "cell_type": "code",
   "execution_count": 111,
   "metadata": {},
   "outputs": [],
   "source": [
    "def create_file_list(file):\n",
    "    file_open=open(file)\n",
    "    file_read=csv.reader(file_open)\n",
    "    return list(file_read)\n",
    "ios_all=create_file_list('AppleStore.csv')\n",
    "ios_header=ios_all[0]\n",
    "ios=ios_all[1:]\n",
    "android_all=create_file_list('googleplaystore.csv')\n",
    "android_header=android_all[0]\n",
    "android=android_all[1:]"
   ]
  },
  {
   "cell_type": "code",
   "execution_count": 112,
   "metadata": {},
   "outputs": [],
   "source": [
    "def explore_data(dataset, start, end, rows_and_columns=False):\n",
    "    dataset_slice=dataset[start:end]\n",
    "    for row in dataset_slice:\n",
    "        print(row)\n",
    "        print('\\n')\n",
    "    if rows_and_columns:\n",
    "        print('Number of rows:', len(dataset))\n",
    "        print('Number of columns:',len(dataset[0]))"
   ]
  },
  {
   "cell_type": "code",
   "execution_count": 113,
   "metadata": {},
   "outputs": [
    {
     "name": "stdout",
     "output_type": "stream",
     "text": [
      "Headers-iOS \n",
      " \n",
      " ['id', 'track_name', 'size_bytes', 'currency', 'price', 'rating_count_tot', 'rating_count_ver', 'user_rating', 'user_rating_ver', 'ver', 'cont_rating', 'prime_genre', 'sup_devices.num', 'ipadSc_urls.num', 'lang.num', 'vpp_lic'] \n",
      "\n",
      "First few rows of data-iOS \n",
      "\n",
      "['284882215', 'Facebook', '389879808', 'USD', '0.0', '2974676', '212', '3.5', '3.5', '95.0', '4+', 'Social Networking', '37', '1', '29', '1']\n",
      "\n",
      "\n",
      "['389801252', 'Instagram', '113954816', 'USD', '0.0', '2161558', '1289', '4.5', '4.0', '10.23', '12+', 'Photo & Video', '37', '0', '29', '1']\n",
      "\n",
      "\n",
      "Number of rows: 7197\n",
      "Number of columns: 16\n",
      "None\n"
     ]
    }
   ],
   "source": [
    "#iOS\n",
    "print('Headers-iOS','\\n','\\n',ios_header,'\\n')\n",
    "print('First few rows of data-iOS','\\n')\n",
    "print(explore_data(ios, 0,2,rows_and_columns=True))"
   ]
  },
  {
   "cell_type": "markdown",
   "metadata": {},
   "source": [
    "Not all of the column headers are self-explanatory, see data documentation for description [here](https://www.kaggle.com/ramamet4/app-store-apple-data-set-10k-apps).First glance some of the columns that may be useful: `id`,`track_name`,`price`,`rating_count`,`user_rating`,`prime_genre`"
   ]
  },
  {
   "cell_type": "code",
   "execution_count": 114,
   "metadata": {},
   "outputs": [
    {
     "name": "stdout",
     "output_type": "stream",
     "text": [
      "Headers-Android \n",
      " \n",
      " ['App', 'Category', 'Rating', 'Reviews', 'Size', 'Installs', 'Type', 'Price', 'Content Rating', 'Genres', 'Last Updated', 'Current Ver', 'Android Ver'] \n",
      "\n",
      "First few rows of data-Android \n",
      "\n",
      "['Photo Editor & Candy Camera & Grid & ScrapBook', 'ART_AND_DESIGN', '4.1', '159', '19M', '10,000+', 'Free', '0', 'Everyone', 'Art & Design', 'January 7, 2018', '1.0.0', '4.0.3 and up']\n",
      "\n",
      "\n",
      "['Coloring book moana', 'ART_AND_DESIGN', '3.9', '967', '14M', '500,000+', 'Free', '0', 'Everyone', 'Art & Design;Pretend Play', 'January 15, 2018', '2.0.0', '4.0.3 and up']\n",
      "\n",
      "\n",
      "Number of rows: 10841\n",
      "Number of columns: 13\n",
      "None\n"
     ]
    }
   ],
   "source": [
    "#Android\n",
    "print('Headers-Android','\\n','\\n',android_header,'\\n')\n",
    "print('First few rows of data-Android','\\n')\n",
    "print(explore_data(android, 0,2,rows_and_columns=True))"
   ]
  },
  {
   "cell_type": "markdown",
   "metadata": {},
   "source": [
    "Not all of the column headers are self-explanatory, see data documentation for description [here](https://www.kaggle.com/lava18/google-play-store-apps).  First glance some of the columns that may be useful: \n",
    "`App`,`Category`,`Rating`,`Reviews`,`Installs`,`Price`,`Genres`"
   ]
  },
  {
   "cell_type": "markdown",
   "metadata": {},
   "source": [
    "### Data Cleaning\n",
    "* Detect inaccurate data, correct or remove\n",
    "* Detect duplicate data, remove it\n",
    "* Remove non-english apps (we are only interested in English speaking audiance for this project)\n",
    "* Remove apps that aren't free (we are only concerned with apps free to download and install for this project)"
   ]
  },
  {
   "cell_type": "markdown",
   "metadata": {},
   "source": [
    "The Google play [discussion section](https://www.kaggle.com/lava18/google-play-store-apps/discussion/66015) describes an error for a certain row, 10472.  Let us print this row and check it out.  It appears as if it is missing the category and the data has shifted.  We could research and try to find the category or delete it.  It is just one row so we will delete it."
   ]
  },
  {
   "cell_type": "code",
   "execution_count": 115,
   "metadata": {},
   "outputs": [
    {
     "name": "stdout",
     "output_type": "stream",
     "text": [
      "['App', 'Category', 'Rating', 'Reviews', 'Size', 'Installs', 'Type', 'Price', 'Content Rating', 'Genres', 'Last Updated', 'Current Ver', 'Android Ver']\n",
      "['Life Made WI-Fi Touchscreen Photo Frame', '1.9', '19', '3.0M', '1,000+', 'Free', '0', 'Everyone', '', 'February 11, 2018', '1.0.19', '4.0 and up']\n"
     ]
    }
   ],
   "source": [
    "print(android_header)\n",
    "print(android[10472])"
   ]
  },
  {
   "cell_type": "code",
   "execution_count": 116,
   "metadata": {},
   "outputs": [],
   "source": [
    "del android[10472]"
   ]
  },
  {
   "cell_type": "markdown",
   "metadata": {},
   "source": [
    "### Removing Duplicates\n",
    "The discussion section also indicates multiple duplicate entries.  We will define a function to create a list of the names of the duplicate apps and a list of the names of the unique apps.  We don't want to delete the duplicates as random, first we must explore the duplicates to see the differences to best determine which one to keep."
   ]
  },
  {
   "cell_type": "code",
   "execution_count": 117,
   "metadata": {},
   "outputs": [],
   "source": [
    "#Function to create list of duplicate and unique apps\n",
    "def duplicate_apps(app_list):\n",
    "    duplicate_apps=[]\n",
    "    unique_apps=[]\n",
    "    for app in app_list:\n",
    "        name=app[0]\n",
    "        if name in unique_apps:\n",
    "            duplicate_apps.append(name)\n",
    "        else:\n",
    "            unique_apps.append(name)\n",
    "    print('Number of duplicate apps:', len(duplicate_apps),'\\n')\n",
    "    print('Examples of duplicate apps:', duplicate_apps[:20])\n",
    "    return duplicate_apps, unique_apps"
   ]
  },
  {
   "cell_type": "code",
   "execution_count": 118,
   "metadata": {},
   "outputs": [
    {
     "name": "stdout",
     "output_type": "stream",
     "text": [
      "Number of duplicate apps: 1181 \n",
      "\n",
      "Examples of duplicate apps: ['Quick PDF Scanner + OCR FREE', 'Box', 'Google My Business', 'ZOOM Cloud Meetings', 'join.me - Simple Meetings', 'Box', 'Zenefits', 'Google Ads', 'Google My Business', 'Slack', 'FreshBooks Classic', 'Insightly CRM', 'QuickBooks Accounting: Invoicing & Expenses', 'HipChat - Chat Built for Teams', 'Xero Accounting Software', 'MailChimp - Email, Marketing Automation', 'Crew - Free Messaging and Scheduling', 'Asana: organize team projects', 'Google Analytics', 'AdWords Express']\n"
     ]
    }
   ],
   "source": [
    "#Android\n",
    "android_duplicate_apps, android_unique_apps = duplicate_apps(android)"
   ]
  },
  {
   "cell_type": "markdown",
   "metadata": {},
   "source": [
    "Let us look at Slack apps in the Android apps list and determine a criteria for deleting duplicates."
   ]
  },
  {
   "cell_type": "code",
   "execution_count": 119,
   "metadata": {},
   "outputs": [
    {
     "name": "stdout",
     "output_type": "stream",
     "text": [
      "['Slack', 'BUSINESS', '4.4', '51507', 'Varies with device', '5,000,000+', 'Free', '0', 'Everyone', 'Business', 'August 2, 2018', 'Varies with device', 'Varies with device']\n",
      "['Slack', 'BUSINESS', '4.4', '51507', 'Varies with device', '5,000,000+', 'Free', '0', 'Everyone', 'Business', 'August 2, 2018', 'Varies with device', 'Varies with device']\n",
      "['Slack', 'BUSINESS', '4.4', '51510', 'Varies with device', '5,000,000+', 'Free', '0', 'Everyone', 'Business', 'August 2, 2018', 'Varies with device', 'Varies with device']\n"
     ]
    }
   ],
   "source": [
    "for app in android:\n",
    "    name=app[0]\n",
    "    if name == 'Slack':\n",
    "        print(app)"
   ]
  },
  {
   "cell_type": "markdown",
   "metadata": {},
   "source": [
    "Column 4, `Reviews`, is the difference in these duplicates.  We will keep the row with the highest number of reviews."
   ]
  },
  {
   "cell_type": "code",
   "execution_count": 121,
   "metadata": {},
   "outputs": [
    {
     "name": "stdout",
     "output_type": "stream",
     "text": [
      "Expected length for Android apps after removing duplicates: 9659\n"
     ]
    }
   ],
   "source": [
    "print('Expected length for Android apps after removing duplicates:', len(android)-len(android_duplicate_apps))"
   ]
  },
  {
   "cell_type": "markdown",
   "metadata": {},
   "source": [
    "Now we will remove the duplicates for the iOS apps"
   ]
  },
  {
   "cell_type": "code",
   "execution_count": 122,
   "metadata": {},
   "outputs": [
    {
     "name": "stdout",
     "output_type": "stream",
     "text": [
      "Number of duplicate apps: 0 \n",
      "\n",
      "Examples of duplicate apps: []\n"
     ]
    }
   ],
   "source": [
    "#iOS\n",
    "ios_duplicate_apps, ios_unique_apps = duplicate_apps(ios)"
   ]
  },
  {
   "cell_type": "markdown",
   "metadata": {},
   "source": [
    "There are no duplicates in the ios app list."
   ]
  },
  {
   "cell_type": "code",
   "execution_count": 123,
   "metadata": {},
   "outputs": [],
   "source": [
    "def max_reviews(app_list):\n",
    "    reviews_max={}\n",
    "    for app in app_list:\n",
    "        name=app[0]\n",
    "        n_reviews=float(app[3])\n",
    "        if name in reviews_max and reviews_max[name]<n_reviews:\n",
    "            reviews_max[name]=n_reviews\n",
    "        if name not in reviews_max:\n",
    "            reviews_max[name]=n_reviews\n",
    "    return reviews_max\n",
    "def clean_app_list(app_list):\n",
    "    reviews_max=max_reviews(app_list)\n",
    "    clean=[]\n",
    "    already_added=[]\n",
    "    for app in app_list:\n",
    "        name=app[0]\n",
    "        n_reviews=float(app[3])\n",
    "        if n_reviews == reviews_max[name] and name not in already_added:\n",
    "            clean.append(app)\n",
    "            already_added.append(name)\n",
    "    return clean, already_added\n",
    "        "
   ]
  },
  {
   "cell_type": "code",
   "execution_count": 124,
   "metadata": {},
   "outputs": [],
   "source": [
    "android_clean, android_already_added=clean_app_list(android)"
   ]
  },
  {
   "cell_type": "code",
   "execution_count": 125,
   "metadata": {},
   "outputs": [
    {
     "data": {
      "text/plain": [
       "9659"
      ]
     },
     "execution_count": 125,
     "metadata": {},
     "output_type": "execute_result"
    }
   ],
   "source": [
    "len(android_clean)"
   ]
  },
  {
   "cell_type": "markdown",
   "metadata": {},
   "source": [
    "### Removing non English apps\n",
    "Sccording to the [ASCII](https://en.wikipedia.org/wiki/ASCII) (American Standard Code for Information Interchange) system the numbers corresponding to english characters range from 0 to 127.  We will create a function to remove the apps with non english characters.<br>To account for english apps with emojis and characters like `™` we will remove apps with more than three characters that fall out of the ASCII range.  This allows us to keep english apps with up to three special characters."
   ]
  },
  {
   "cell_type": "code",
   "execution_count": 131,
   "metadata": {},
   "outputs": [],
   "source": [
    "def english(string):\n",
    "    count=0\n",
    "    for char in string:\n",
    "        if ord(char) > 127:\n",
    "            count+=1\n",
    "    if count > 3:\n",
    "        return False\n",
    "    else:\n",
    "        return True\n",
    "    "
   ]
  },
  {
   "cell_type": "code",
   "execution_count": 132,
   "metadata": {},
   "outputs": [
    {
     "name": "stdout",
     "output_type": "stream",
     "text": [
      "True\n",
      "False\n",
      "True\n",
      "True\n"
     ]
    }
   ],
   "source": [
    "print(english('Instagram'))\n",
    "print(english('爱奇艺PPS -《欢乐颂2》电视剧热播'))\n",
    "print(english('Docs To Go™ Free Office Suite'))\n",
    "print(english('Instachat 😜'))"
   ]
  },
  {
   "cell_type": "code",
   "execution_count": 135,
   "metadata": {},
   "outputs": [
    {
     "name": "stdout",
     "output_type": "stream",
     "text": [
      "Number of android english apps: 9614\n",
      "Number of non english android apps deleted: 45\n",
      "Number of ios english apps: 6183\n",
      "Number of non english ios apps deleted: 1014\n"
     ]
    }
   ],
   "source": [
    "android_english=[]\n",
    "ios_english=[]\n",
    "for app in android_clean:\n",
    "    name=app[0]\n",
    "    if english(name):\n",
    "        android_english.append(app)\n",
    "        \n",
    "for app in ios:\n",
    "    name=app[1]\n",
    "    if english(name):\n",
    "        ios_english.append(app)\n",
    "        \n",
    "print('Number of android english apps:',len(android_english))\n",
    "print('Number of non english android apps deleted:',len(android_clean)-len(android_english))\n",
    "\n",
    "print('Number of ios english apps:',len(ios_english))\n",
    "print('Number of non english ios apps deleted:',len(ios)-len(ios_english))\n",
    "        \n",
    "        "
   ]
  },
  {
   "cell_type": "markdown",
   "metadata": {},
   "source": [
    "### Isolate the apps that are free to download"
   ]
  },
  {
   "cell_type": "code",
   "execution_count": null,
   "metadata": {},
   "outputs": [],
   "source": []
  }
 ],
 "metadata": {
  "kernelspec": {
   "display_name": "Python 3",
   "language": "python",
   "name": "python3"
  },
  "language_info": {
   "codemirror_mode": {
    "name": "ipython",
    "version": 3
   },
   "file_extension": ".py",
   "mimetype": "text/x-python",
   "name": "python",
   "nbconvert_exporter": "python",
   "pygments_lexer": "ipython3",
   "version": "3.7.4"
  }
 },
 "nbformat": 4,
 "nbformat_minor": 2
}
